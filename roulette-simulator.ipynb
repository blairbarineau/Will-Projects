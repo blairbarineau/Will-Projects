{
 "cells": [
  {
   "cell_type": "code",
   "execution_count": 3,
   "metadata": {},
   "outputs": [],
   "source": [
    "%%capture\n",
    "import pandas as pd\n",
    "import numpy as np"
   ]
  },
  {
   "cell_type": "code",
   "execution_count": 53,
   "metadata": {},
   "outputs": [
    {
     "name": "stdout",
     "output_type": "stream",
     "text": [
      "[(0, 'green'), (1, 'red'), (2, 'black'), (3, 'red'), (4, 'black'), (5, 'red'), (6, 'black'), (7, 'red'), (8, 'black'), (9, 'red'), (10, 'black'), (11, 'black'), (12, 'red'), (13, 'black'), (14, 'red'), (15, 'black'), (16, 'red'), (17, 'black'), (18, 'red'), (19, 'red'), (20, 'black'), (21, 'red'), (22, 'black'), (23, 'red'), (24, 'black'), (25, 'red'), (26, 'black'), (27, 'red'), (28, 'black'), (29, 'black'), (30, 'red'), (31, 'black'), (32, 'red'), (33, 'black'), (34, 'red'), (35, 'black'), (36, 'red')]\n"
     ]
    }
   ],
   "source": [
    "wheel = [(0, 'green')] + [(n, 'red') if n in [1,3,5,7,9,12,14,16,18,19,21,23,25,27,30,32,34,36] \n",
    "            else (n, 'black') for n in range(1,37)]\n",
    "\n",
    "def roulette_sim(simulations, bet):\n",
    "    sum = 0\n",
    "    for i in range(simulations):\n",
    "        tup = np.random.choice(wheel)\n",
    "        number = tup[0]\n",
    "        isOdd  = number % 2 == 1\n",
    "        color = tup[1]\n",
    "        if isOdd:\n",
    "            sum += bet\n",
    "        else:\n",
    "            sum -= bet\n",
    "        if color == 'black':\n",
    "            sum += bet\n",
    "        else:\n",
    "            sum -= bet\n",
    "    return sum\n",
    "\n",
    "# lost_money = 0\n",
    "# won_money = 0\n",
    "# for i in range(1000):\n",
    "#     result = roulette_sim(1000, 10)\n",
    "#     if result < 0:\n",
    "#         lost_money += 1\n",
    "#     else:\n",
    "#         won_money += 1\n",
    "# print(f'Lost money: {lost_money}, Won money: {won_money}')"
   ]
  }
 ],
 "metadata": {
  "kernelspec": {
   "display_name": "base",
   "language": "python",
   "name": "python3"
  },
  "language_info": {
   "codemirror_mode": {
    "name": "ipython",
    "version": 3
   },
   "file_extension": ".py",
   "mimetype": "text/x-python",
   "name": "python",
   "nbconvert_exporter": "python",
   "pygments_lexer": "ipython3",
   "version": "3.10.9"
  }
 },
 "nbformat": 4,
 "nbformat_minor": 2
}
